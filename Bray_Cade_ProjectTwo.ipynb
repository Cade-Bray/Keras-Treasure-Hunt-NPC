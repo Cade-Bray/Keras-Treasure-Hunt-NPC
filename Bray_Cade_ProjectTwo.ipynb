{
 "cells": [
  {
   "cell_type": "markdown",
   "metadata": {},
   "source": [
    "# Treasure Hunt Game Notebook\n",
    "\n",
    "## Read and Review Your Starter Code\n",
    "The theme of this project is a popular treasure hunt game in which the player needs to find the treasure before the pirate does. While you will not be developing the entire game, you will write the part of the game that represents the intelligent agent, which is a pirate in this case. The pirate will try to find the optimal path to the treasure using deep Q-learning. \n",
    "\n",
    "You have been provided with two Python classes and this notebook to help you with this assignment. The first class, TreasureMaze.py, represents the environment, which includes a maze object defined as a matrix. The second class, GameExperience.py, stores the episodes – that is, all the states that come in between the initial state and the terminal state. This is later used by the agent for learning by experience, called \"exploration\". This notebook shows how to play a game. Your task is to complete the deep Q-learning implementation for which a skeleton implementation has been provided. The code blocks you will need to complete has #TODO as a header.\n",
    "\n",
    "First, read and review the next few code and instruction blocks to understand the code that you have been given."
   ]
  },
  {
   "cell_type": "code",
   "execution_count": 1,
   "metadata": {
    "jupyter": {
     "is_executing": true
    }
   },
   "outputs": [
    {
     "name": "stderr",
     "output_type": "stream",
     "text": [
      "Using TensorFlow backend.\n"
     ]
    }
   ],
   "source": [
    "from __future__ import print_function\n",
    "import os, sys, time, datetime, json, random\n",
    "import numpy as np\n",
    "from keras.models import Sequential\n",
    "from keras.layers.core import Dense, Activation, Dropout\n",
    "from keras.regularizers import l2\n",
    "from keras.optimizers import SGD , Adam, RMSprop\n",
    "from keras.layers.advanced_activations import PReLU\n",
    "import matplotlib.pyplot as plt\n",
    "from TreasureMaze import TreasureMaze\n",
    "from GameExperience import GameExperience\n",
    "%matplotlib inline"
   ]
  },
  {
   "cell_type": "markdown",
   "metadata": {},
   "source": [
    "The following code block contains an 8x8 matrix that will be used as a maze object:"
   ]
  },
  {
   "cell_type": "code",
   "execution_count": 2,
   "metadata": {},
   "outputs": [],
   "source": [
    "maze = np.array([\n",
    "    [ 1.,  0.,  1.,  1.,  1.,  1.,  1.,  1.],\n",
    "    [ 1.,  0.,  1.,  1.,  1.,  0.,  1.,  1.],\n",
    "    [ 1.,  1.,  1.,  1.,  0.,  1.,  0.,  1.],\n",
    "    [ 1.,  1.,  1.,  0.,  1.,  1.,  1.,  1.],\n",
    "    [ 1.,  1.,  0.,  1.,  1.,  1.,  1.,  1.],\n",
    "    [ 1.,  1.,  1.,  0.,  1.,  0.,  0.,  0.],\n",
    "    [ 1.,  1.,  1.,  0.,  1.,  1.,  1.,  1.],\n",
    "    [ 1.,  1.,  1.,  1.,  0.,  1.,  1.,  1.]\n",
    "])"
   ]
  },
  {
   "cell_type": "markdown",
   "metadata": {},
   "source": [
    "This helper function allows a visual representation of the maze object:"
   ]
  },
  {
   "cell_type": "code",
   "execution_count": 3,
   "metadata": {},
   "outputs": [],
   "source": [
    "def show(qmaze):\n",
    "    plt.grid('on')\n",
    "    nrows, ncols = qmaze.maze.shape\n",
    "    ax = plt.gca()\n",
    "    ax.set_xticks(np.arange(0.5, nrows, 1))\n",
    "    ax.set_yticks(np.arange(0.5, ncols, 1))\n",
    "    ax.set_xticklabels([])\n",
    "    ax.set_yticklabels([])\n",
    "    canvas = np.copy(qmaze.maze)\n",
    "    for row,col in qmaze.visited:\n",
    "        canvas[row,col] = 0.6\n",
    "    pirate_row, pirate_col, _ = qmaze.state\n",
    "    canvas[pirate_row, pirate_col] = 0.3   # pirate cell\n",
    "    canvas[nrows-1, ncols-1] = 0.9 # treasure cell\n",
    "    img = plt.imshow(canvas, interpolation='none', cmap='gray')\n",
    "    return img"
   ]
  },
  {
   "cell_type": "markdown",
   "metadata": {},
   "source": [
    "The pirate agent can move in four directions: left, right, up, and down. \n",
    "\n",
    "While the agent primarily learns by experience through exploitation, often, the agent can choose to explore the environment to find previously undiscovered paths. This is called \"exploration\" and is defined by epsilon. This value is typically a lower value such as 0.1, which means for every ten attempts, the agent will attempt to learn by experience nine times and will randomly explore a new path one time. You are encouraged to try various values for the exploration factor and see how the algorithm performs."
   ]
  },
  {
   "cell_type": "code",
   "execution_count": 4,
   "metadata": {},
   "outputs": [],
   "source": [
    "LEFT = 0\n",
    "UP = 1\n",
    "RIGHT = 2\n",
    "DOWN = 3\n",
    "\n",
    "\n",
    "# Exploration factor\n",
    "epsilon = 0.1\n",
    "\n",
    "# Actions dictionary\n",
    "actions_dict = {\n",
    "    LEFT: 'left',\n",
    "    UP: 'up',\n",
    "    RIGHT: 'right',\n",
    "    DOWN: 'down',\n",
    "}\n",
    "\n",
    "num_actions = len(actions_dict)\n"
   ]
  },
  {
   "cell_type": "markdown",
   "metadata": {},
   "source": [
    "The sample code block and output below show creating a maze object and performing one action (DOWN), which returns the reward. The resulting updated environment is visualized."
   ]
  },
  {
   "cell_type": "code",
   "execution_count": 5,
   "metadata": {},
   "outputs": [
    {
     "name": "stdout",
     "output_type": "stream",
     "text": [
      "reward= -0.04\n"
     ]
    },
    {
     "data": {
      "text/plain": [
       "<matplotlib.image.AxesImage at 0x2706df62a48>"
      ]
     },
     "execution_count": 5,
     "metadata": {},
     "output_type": "execute_result"
    },
    {
     "data": {
      "image/png": "[encoded data removed]",
      "text/plain": [
       "<Figure size 432x288 with 1 Axes>"
      ]
     },
     "metadata": {
      "needs_background": "light"
     },
     "output_type": "display_data"
    }
   ],
   "source": [
    "qmaze = TreasureMaze(maze)\n",
    "canvas, reward, game_over = qmaze.act(DOWN)\n",
    "print(\"reward=\", reward)\n",
    "show(qmaze)"
   ]
  },
  {
   "cell_type": "markdown",
   "metadata": {},
   "source": [
    "This function simulates a full game based on the provided trained model. The other parameters include the TreasureMaze object and the starting position of the pirate."
   ]
  },
  {
   "cell_type": "code",
   "execution_count": 6,
   "metadata": {},
   "outputs": [],
   "source": [
    "def play_game(model, qmaze, pirate_cell):\n",
    "    qmaze.reset(pirate_cell)\n",
    "    envstate = qmaze.observe()\n",
    "    while True:\n",
    "        prev_envstate = envstate\n",
    "        # get next action\n",
    "        q = model.predict(prev_envstate)\n",
    "        action = np.argmax(q[0])\n",
    "\n",
    "        # apply action, get rewards and new state\n",
    "        envstate, reward, game_status = qmaze.act(action)\n",
    "        if game_status == 'win':\n",
    "            return True\n",
    "        elif game_status == 'lose':\n",
    "            return False"
   ]
  },
  {
   "cell_type": "markdown",
   "metadata": {},
   "source": [
    "This function helps you to determine whether the pirate can win any game at all. If your maze is not well designed, the pirate may not win any game at all. In this case, your training would not yield any result. The provided maze in this notebook ensures that there is a path to win and you can run this method to check."
   ]
  },
  {
   "cell_type": "code",
   "execution_count": 7,
   "metadata": {},
   "outputs": [],
   "source": [
    "def completion_check(model, qmaze):\n",
    "    for cell in qmaze.free_cells:\n",
    "        if not qmaze.valid_actions(cell):\n",
    "            return False\n",
    "        if not play_game(model, qmaze, cell):\n",
    "            return False\n",
    "    return True"
   ]
  },
  {
   "cell_type": "markdown",
   "metadata": {},
   "source": [
    "The code you have been given in this block will build the neural network model. Review the code and note the number of layers, as well as the activation, optimizer, and loss functions that are used to train the model."
   ]
  },
  {
   "cell_type": "code",
   "execution_count": 8,
   "metadata": {},
   "outputs": [],
   "source": [
    "def build_model(maze):\n",
    "    model = Sequential()\n",
    "    model.add(Dense(maze.size, input_shape=(maze.size,), kernel_regularizer=l2(0.01)))\n",
    "    model.add(PReLU())\n",
    "    model.add(Dropout(0.2))\n",
    "    model.add(Dense(maze.size))\n",
    "    model.add(PReLU())\n",
    "    model.add(Dropout(0.2))\n",
    "    model.add(Dense(num_actions))\n",
    "    model.compile(optimizer='adam', loss='mse')\n",
    "    return model"
   ]
  },
  {
   "cell_type": "markdown",
   "metadata": {},
   "source": [
    "# #TODO: Complete the Q-Training Algorithm Code Block\n",
    "\n",
    "This is your deep Q-learning implementation. The goal of your deep Q-learning implementation is to find the best possible navigation sequence that results in reaching the treasure cell while maximizing the reward. In your implementation, you need to determine the optimal number of epochs to achieve a 100% win rate.\n",
    "\n",
    "You will need to complete the section starting with #pseudocode. The pseudocode has been included for you."
   ]
  },
  {
   "cell_type": "code",
   "execution_count": 9,
   "metadata": {},
   "outputs": [],
   "source": [
    "def qtrain(model, maze, **opt):\n",
    "\n",
    "    # exploration factor\n",
    "    global epsilon \n",
    "    \n",
    "    # Epsilon Decay\n",
    "    epsilon_decay = opt.get('epsilon_decay', 0.995) # Reduce by 0.5% per epoch\n",
    "\n",
    "    # number of epochs\n",
    "    n_epoch = opt.get('epochs', 15000)\n",
    "\n",
    "    # maximum memory to store episodes\n",
    "    max_memory = opt.get('max_memory', 1000)\n",
    "\n",
    "    # maximum data size for training\n",
    "    data_size = opt.get('data_size', 50)\n",
    "\n",
    "    # start time\n",
    "    start_time = datetime.datetime.now()\n",
    "\n",
    "    # Construct environment/game from numpy array: maze (see above)\n",
    "    qmaze = TreasureMaze(maze)\n",
    "\n",
    "    # Initialize experience replay object\n",
    "    experience = GameExperience(model, max_memory=max_memory)\n",
    "    \n",
    "    win_history = []   # history of win/lose game\n",
    "    hsize = qmaze.maze.size//2   # history window size\n",
    "\n",
    "    # For each epoch:\n",
    "    for epoch in range(n_epoch):\n",
    "        #Agent_cell = randomly select a free cell\n",
    "        agent_cell = random.choice(qmaze.free_cells)\n",
    "        \n",
    "        # Since the environments are low resources It takes to long to determine if\n",
    "        # I am doing suboptimal learning. Implementing a patiene to\n",
    "        # Help me determine if I need to adjust learning_rate, epochs in fit, or batch_size\n",
    "        patience = 10\n",
    "\n",
    "        #Reset the maze with agent set to above position\n",
    "        qmaze.reset(agent_cell)\n",
    "\n",
    "        #envstate = Environment.current_state\n",
    "        envstate = qmaze.observe()\n",
    "        loss = 0.0\n",
    "        n_episodes = 0\n",
    "        game_status = 'not_over'\n",
    "\n",
    "        #While state is not game over:\n",
    "        while game_status == 'not_over':\n",
    "            previous_envstate = envstate\n",
    "            \n",
    "            #randomly choose action (left, right, up, down) either by exploration or by exploitation\n",
    "            if np.random.rand() < epsilon:\n",
    "                #Exploration\n",
    "                action = np.random.choice(qmaze.valid_actions())\n",
    "            else:\n",
    "                #Exploitation\n",
    "                q_values = model.predict(previous_envstate)\n",
    "                action = np.argmax(q_values[0])\n",
    "                                         \n",
    "            # Apply the action to get reward, next state, and game status\n",
    "            envstate, reward_act, game_status = qmaze.act(action)\n",
    "            n_episodes += 1\n",
    "            episode = [previous_envstate, action, reward, envstate, game_status]\n",
    "            \n",
    "            # Append the win/lose to win_history\n",
    "            if game_status == 'win':\n",
    "                win_history.append(1)\n",
    "            elif game_status == 'lose':\n",
    "                win_history.append(0)\n",
    "\n",
    "            #Store episode in Experience replay object\n",
    "            experience.remember(episode)\n",
    "\n",
    "            #Train neural network model and evaluate loss\n",
    "            data = experience.get_data(data_size=data_size)\n",
    "\n",
    "            #If data is not empty\n",
    "            if data:    \n",
    "                inputs, targets = data\n",
    "                model.fit(inputs, targets, epochs=10, batch_size=20, verbose=0)\n",
    "                loss = model.evaluate(inputs, targets, verbose=0)\n",
    "\n",
    "    \n",
    "        #Print the epoch, loss, episodes, win count, and win rate for each epoch\n",
    "        dt = datetime.datetime.now() - start_time\n",
    "        t = format_time(dt.total_seconds())\n",
    "        win_rate = sum(win_history[-hsize:]) / hsize\n",
    "        template = \"Epoch: {:03d}/{:d} | Loss: {:.4f} | Episodes: {:d} | Win count: {:d} | Win rate: {:.3f} | time: {}\"\n",
    "        print(template.format(epoch+1, n_epoch, loss, n_episodes, sum(win_history), win_rate, t))\n",
    "        \n",
    "        # We simply check if training has exhausted all free cells and if in all\n",
    "        # cases the agent won.\n",
    "        if win_rate > 0.9 : \n",
    "            # Epsilon decay is applied after each epoch. This decay factor is multiplied by epsilon\n",
    "            # to decrease it by 0.5% but not below 0.05.\n",
    "            epsilon = max(0.05, epsilon * epsilon_decay) # decrease epsilon\n",
    "            \n",
    "        #If the win rate is above the threshold and your model passes the completion check, that would be your epoch.\n",
    "        if sum(win_history[-hsize:]) == hsize and completion_check(model, qmaze):\n",
    "            print(\"Reached 100%% win rate at epoch: %d\" % (epoch + 1,))\n",
    "            break\n",
    "    \n",
    "    # Determine the total time for training\n",
    "    dt = datetime.datetime.now() - start_time\n",
    "    seconds = dt.total_seconds()\n",
    "    t = format_time(seconds)\n",
    "\n",
    "    print(\"n_epoch: %d, max_mem: %d, data: %d, time: %s\" % (epoch + 1, max_memory, data_size, t))\n",
    "    return seconds\n",
    "\n",
    "# This is a small utility for printing readable time strings:\n",
    "def format_time(seconds):\n",
    "    if seconds < 400:\n",
    "        s = float(seconds)\n",
    "        return \"%.1f seconds\" % (s,)\n",
    "    elif seconds < 4000:\n",
    "        m = seconds / 60.0\n",
    "        return \"%.2f minutes\" % (m,)\n",
    "    else:\n",
    "        h = seconds / 3600.0\n",
    "        return \"%.2f hours\" % (h,)"
   ]
  },
  {
   "cell_type": "markdown",
   "metadata": {},
   "source": [
    "## Test Your Model\n",
    "\n",
    "Now we will start testing the deep Q-learning implementation. To begin, select **Cell**, then **Run All** from the menu bar. This will run your notebook. As it runs, you should see output begin to appear beneath the next few cells. The code below creates an instance of TreasureMaze."
   ]
  },
  {
   "cell_type": "code",
   "execution_count": 10,
   "metadata": {},
   "outputs": [
    {
     "data": {
      "text/plain": [
       "<matplotlib.image.AxesImage at 0x2706e024988>"
      ]
     },
     "execution_count": 10,
     "metadata": {},
     "output_type": "execute_result"
    },
    {
     "data": {
      "image/png": "[encoded data removed]",
      "text/plain": [
       "<Figure size 432x288 with 1 Axes>"
      ]
     },
     "metadata": {
      "needs_background": "light"
     },
     "output_type": "display_data"
    }
   ],
   "source": [
    "qmaze = TreasureMaze(maze)\n",
    "show(qmaze)"
   ]
  },
  {
   "cell_type": "markdown",
   "metadata": {},
   "source": [
    "In the next code block, you will build your model and train it using deep Q-learning. Note: This step takes several minutes to fully run."
   ]
  },
  {
   "cell_type": "code",
   "execution_count": 11,
   "metadata": {},
   "outputs": [
    {
     "name": "stdout",
     "output_type": "stream",
     "text": [
      "Epoch: 001/1000 | Loss: 0.2065 | Episodes: 16 | Win count: 1 | Win rate: 0.031 | time: 4.2 seconds\n",
      "Epoch: 002/1000 | Loss: 0.1007 | Episodes: 11 | Win count: 2 | Win rate: 0.062 | time: 5.6 seconds\n",
      "Epoch: 003/1000 | Loss: 0.0805 | Episodes: 3 | Win count: 3 | Win rate: 0.094 | time: 6.0 seconds\n",
      "Epoch: 004/1000 | Loss: 0.0000 | Episodes: 134 | Win count: 3 | Win rate: 0.094 | time: 38.2 seconds\n",
      "Epoch: 005/1000 | Loss: 0.0000 | Episodes: 144 | Win count: 3 | Win rate: 0.094 | time: 74.0 seconds\n",
      "Epoch: 006/1000 | Loss: 0.0000 | Episodes: 140 | Win count: 3 | Win rate: 0.094 | time: 107.0 seconds\n",
      "Epoch: 007/1000 | Loss: 0.0000 | Episodes: 137 | Win count: 3 | Win rate: 0.094 | time: 139.6 seconds\n",
      "Epoch: 008/1000 | Loss: 0.0000 | Episodes: 149 | Win count: 3 | Win rate: 0.094 | time: 175.5 seconds\n",
      "Epoch: 009/1000 | Loss: 0.0000 | Episodes: 159 | Win count: 3 | Win rate: 0.094 | time: 213.4 seconds\n",
      "Epoch: 010/1000 | Loss: 0.0000 | Episodes: 145 | Win count: 3 | Win rate: 0.094 | time: 248.5 seconds\n",
      "Epoch: 011/1000 | Loss: 0.0000 | Episodes: 6 | Win count: 4 | Win rate: 0.125 | time: 250.2 seconds\n",
      "Epoch: 012/1000 | Loss: 0.0000 | Episodes: 146 | Win count: 4 | Win rate: 0.125 | time: 285.3 seconds\n",
      "Epoch: 013/1000 | Loss: 0.0000 | Episodes: 148 | Win count: 4 | Win rate: 0.125 | time: 320.8 seconds\n",
      "Epoch: 014/1000 | Loss: 0.0000 | Episodes: 147 | Win count: 4 | Win rate: 0.125 | time: 356.9 seconds\n",
      "Epoch: 015/1000 | Loss: 0.0000 | Episodes: 93 | Win count: 5 | Win rate: 0.156 | time: 378.4 seconds\n",
      "Epoch: 016/1000 | Loss: 0.0000 | Episodes: 136 | Win count: 5 | Win rate: 0.156 | time: 6.85 minutes\n",
      "Epoch: 017/1000 | Loss: 0.0000 | Episodes: 146 | Win count: 5 | Win rate: 0.156 | time: 7.43 minutes\n",
      "Epoch: 018/1000 | Loss: 0.0000 | Episodes: 148 | Win count: 5 | Win rate: 0.156 | time: 8.03 minutes\n",
      "Epoch: 019/1000 | Loss: 0.0000 | Episodes: 148 | Win count: 5 | Win rate: 0.156 | time: 8.60 minutes\n",
      "Epoch: 020/1000 | Loss: 0.0000 | Episodes: 158 | Win count: 5 | Win rate: 0.156 | time: 9.24 minutes\n",
      "Epoch: 021/1000 | Loss: 0.0000 | Episodes: 148 | Win count: 5 | Win rate: 0.156 | time: 9.84 minutes\n",
      "Epoch: 022/1000 | Loss: 0.0000 | Episodes: 144 | Win count: 5 | Win rate: 0.156 | time: 10.42 minutes\n",
      "Epoch: 023/1000 | Loss: 0.0000 | Episodes: 144 | Win count: 5 | Win rate: 0.156 | time: 11.02 minutes\n",
      "Epoch: 024/1000 | Loss: 0.0000 | Episodes: 146 | Win count: 5 | Win rate: 0.156 | time: 11.61 minutes\n",
      "Epoch: 025/1000 | Loss: 0.0000 | Episodes: 146 | Win count: 5 | Win rate: 0.156 | time: 12.18 minutes\n",
      "Epoch: 026/1000 | Loss: 0.0000 | Episodes: 144 | Win count: 5 | Win rate: 0.156 | time: 12.75 minutes\n",
      "Epoch: 027/1000 | Loss: 0.0000 | Episodes: 142 | Win count: 5 | Win rate: 0.156 | time: 13.33 minutes\n",
      "Epoch: 028/1000 | Loss: 0.0000 | Episodes: 156 | Win count: 5 | Win rate: 0.156 | time: 13.94 minutes\n",
      "Epoch: 029/1000 | Loss: 0.0000 | Episodes: 146 | Win count: 5 | Win rate: 0.156 | time: 14.50 minutes\n",
      "Epoch: 030/1000 | Loss: 0.0000 | Episodes: 147 | Win count: 5 | Win rate: 0.156 | time: 15.06 minutes\n",
      "Epoch: 031/1000 | Loss: 0.0000 | Episodes: 101 | Win count: 6 | Win rate: 0.188 | time: 15.49 minutes\n",
      "Epoch: 032/1000 | Loss: 0.0000 | Episodes: 149 | Win count: 6 | Win rate: 0.188 | time: 16.08 minutes\n",
      "Epoch: 033/1000 | Loss: 0.0000 | Episodes: 114 | Win count: 7 | Win rate: 0.188 | time: 16.53 minutes\n",
      "Epoch: 034/1000 | Loss: 0.0000 | Episodes: 142 | Win count: 7 | Win rate: 0.156 | time: 17.11 minutes\n",
      "Epoch: 035/1000 | Loss: 0.0000 | Episodes: 159 | Win count: 7 | Win rate: 0.125 | time: 17.75 minutes\n",
      "Epoch: 036/1000 | Loss: 0.0000 | Episodes: 75 | Win count: 8 | Win rate: 0.156 | time: 18.06 minutes\n",
      "Epoch: 037/1000 | Loss: 0.0000 | Episodes: 144 | Win count: 8 | Win rate: 0.156 | time: 18.64 minutes\n",
      "Epoch: 038/1000 | Loss: 0.0000 | Episodes: 117 | Win count: 9 | Win rate: 0.188 | time: 19.12 minutes\n",
      "Epoch: 039/1000 | Loss: 0.0000 | Episodes: 157 | Win count: 9 | Win rate: 0.188 | time: 19.75 minutes\n",
      "Epoch: 040/1000 | Loss: 0.0000 | Episodes: 86 | Win count: 10 | Win rate: 0.219 | time: 20.10 minutes\n",
      "Epoch: 041/1000 | Loss: 0.0000 | Episodes: 144 | Win count: 10 | Win rate: 0.219 | time: 20.72 minutes\n",
      "Epoch: 042/1000 | Loss: 0.0000 | Episodes: 25 | Win count: 11 | Win rate: 0.250 | time: 20.82 minutes\n",
      "Epoch: 043/1000 | Loss: 0.0000 | Episodes: 150 | Win count: 11 | Win rate: 0.219 | time: 21.44 minutes\n",
      "Epoch: 044/1000 | Loss: 0.0000 | Episodes: 143 | Win count: 11 | Win rate: 0.219 | time: 22.02 minutes\n",
      "Epoch: 045/1000 | Loss: 0.0000 | Episodes: 149 | Win count: 11 | Win rate: 0.219 | time: 22.63 minutes\n",
      "Epoch: 046/1000 | Loss: 0.0000 | Episodes: 2 | Win count: 12 | Win rate: 0.250 | time: 22.64 minutes\n",
      "Epoch: 047/1000 | Loss: 0.0000 | Episodes: 147 | Win count: 12 | Win rate: 0.219 | time: 23.25 minutes\n",
      "Epoch: 048/1000 | Loss: 0.0000 | Episodes: 140 | Win count: 12 | Win rate: 0.219 | time: 23.83 minutes\n",
      "Epoch: 049/1000 | Loss: 0.0000 | Episodes: 142 | Win count: 12 | Win rate: 0.219 | time: 24.41 minutes\n",
      "Epoch: 050/1000 | Loss: 0.0000 | Episodes: 146 | Win count: 12 | Win rate: 0.219 | time: 25.00 minutes\n",
      "Epoch: 051/1000 | Loss: 0.0000 | Episodes: 146 | Win count: 12 | Win rate: 0.219 | time: 25.60 minutes\n",
      "Epoch: 052/1000 | Loss: 0.0000 | Episodes: 150 | Win count: 12 | Win rate: 0.219 | time: 26.21 minutes\n",
      "Epoch: 053/1000 | Loss: 0.0000 | Episodes: 144 | Win count: 12 | Win rate: 0.219 | time: 26.79 minutes\n",
      "Epoch: 054/1000 | Loss: 0.0000 | Episodes: 153 | Win count: 12 | Win rate: 0.219 | time: 27.39 minutes\n",
      "Epoch: 055/1000 | Loss: 0.0000 | Episodes: 143 | Win count: 12 | Win rate: 0.219 | time: 27.97 minutes\n",
      "Epoch: 056/1000 | Loss: 0.0000 | Episodes: 143 | Win count: 12 | Win rate: 0.219 | time: 28.57 minutes\n",
      "Epoch: 057/1000 | Loss: 0.0000 | Episodes: 144 | Win count: 12 | Win rate: 0.219 | time: 29.14 minutes\n",
      "Epoch: 058/1000 | Loss: 0.0000 | Episodes: 148 | Win count: 12 | Win rate: 0.219 | time: 29.74 minutes\n",
      "Epoch: 059/1000 | Loss: 0.0000 | Episodes: 134 | Win count: 13 | Win rate: 0.250 | time: 30.30 minutes\n",
      "Epoch: 060/1000 | Loss: 0.0000 | Episodes: 155 | Win count: 13 | Win rate: 0.250 | time: 31.01 minutes\n",
      "Epoch: 061/1000 | Loss: 0.0000 | Episodes: 144 | Win count: 13 | Win rate: 0.250 | time: 31.62 minutes\n",
      "Epoch: 062/1000 | Loss: 0.0000 | Episodes: 147 | Win count: 13 | Win rate: 0.250 | time: 32.21 minutes\n",
      "Epoch: 063/1000 | Loss: 0.0000 | Episodes: 145 | Win count: 13 | Win rate: 0.219 | time: 32.79 minutes\n",
      "Epoch: 064/1000 | Loss: 0.0000 | Episodes: 146 | Win count: 13 | Win rate: 0.219 | time: 33.39 minutes\n",
      "Epoch: 065/1000 | Loss: 0.0000 | Episodes: 34 | Win count: 14 | Win rate: 0.219 | time: 33.52 minutes\n",
      "Epoch: 066/1000 | Loss: 0.0000 | Episodes: 144 | Win count: 14 | Win rate: 0.219 | time: 34.08 minutes\n",
      "Epoch: 067/1000 | Loss: 0.0000 | Episodes: 150 | Win count: 14 | Win rate: 0.219 | time: 34.68 minutes\n",
      "Epoch: 068/1000 | Loss: 0.0000 | Episodes: 160 | Win count: 14 | Win rate: 0.188 | time: 35.31 minutes\n",
      "Epoch: 069/1000 | Loss: 0.0000 | Episodes: 144 | Win count: 14 | Win rate: 0.188 | time: 35.91 minutes\n",
      "Epoch: 070/1000 | Loss: 0.0000 | Episodes: 151 | Win count: 14 | Win rate: 0.156 | time: 36.53 minutes\n",
      "Epoch: 071/1000 | Loss: 0.0000 | Episodes: 29 | Win count: 15 | Win rate: 0.188 | time: 36.64 minutes\n",
      "Epoch: 072/1000 | Loss: 0.0000 | Episodes: 152 | Win count: 15 | Win rate: 0.156 | time: 37.24 minutes\n",
      "Epoch: 073/1000 | Loss: 0.0000 | Episodes: 159 | Win count: 15 | Win rate: 0.156 | time: 37.87 minutes\n",
      "Epoch: 074/1000 | Loss: 0.0000 | Episodes: 140 | Win count: 16 | Win rate: 0.156 | time: 38.42 minutes\n",
      "Epoch: 075/1000 | Loss: 0.0000 | Episodes: 146 | Win count: 16 | Win rate: 0.156 | time: 39.01 minutes\n",
      "Epoch: 076/1000 | Loss: 0.0000 | Episodes: 143 | Win count: 16 | Win rate: 0.156 | time: 39.61 minutes\n",
      "Epoch: 077/1000 | Loss: 0.0000 | Episodes: 160 | Win count: 16 | Win rate: 0.156 | time: 40.26 minutes\n",
      "Epoch: 078/1000 | Loss: 0.0000 | Episodes: 146 | Win count: 16 | Win rate: 0.125 | time: 40.86 minutes\n",
      "Epoch: 079/1000 | Loss: 0.0000 | Episodes: 141 | Win count: 16 | Win rate: 0.125 | time: 41.43 minutes\n",
      "Epoch: 080/1000 | Loss: 0.0000 | Episodes: 138 | Win count: 16 | Win rate: 0.125 | time: 41.97 minutes\n",
      "Epoch: 081/1000 | Loss: 0.0000 | Episodes: 148 | Win count: 16 | Win rate: 0.125 | time: 42.56 minutes\n",
      "Epoch: 082/1000 | Loss: 0.0000 | Episodes: 144 | Win count: 16 | Win rate: 0.125 | time: 43.15 minutes\n",
      "Epoch: 083/1000 | Loss: 0.0000 | Episodes: 146 | Win count: 16 | Win rate: 0.125 | time: 43.73 minutes\n",
      "Epoch: 084/1000 | Loss: 0.0000 | Episodes: 159 | Win count: 16 | Win rate: 0.125 | time: 44.38 minutes\n",
      "Epoch: 085/1000 | Loss: 0.0000 | Episodes: 143 | Win count: 16 | Win rate: 0.125 | time: 44.94 minutes\n",
      "Epoch: 086/1000 | Loss: 0.0000 | Episodes: 151 | Win count: 16 | Win rate: 0.125 | time: 45.56 minutes\n",
      "Epoch: 087/1000 | Loss: 0.0000 | Episodes: 140 | Win count: 16 | Win rate: 0.125 | time: 46.15 minutes\n",
      "Epoch: 088/1000 | Loss: 0.0000 | Episodes: 117 | Win count: 17 | Win rate: 0.156 | time: 46.63 minutes\n",
      "Epoch: 089/1000 | Loss: 0.0000 | Episodes: 147 | Win count: 17 | Win rate: 0.156 | time: 47.21 minutes\n",
      "Epoch: 090/1000 | Loss: 0.0000 | Episodes: 148 | Win count: 17 | Win rate: 0.156 | time: 47.82 minutes\n",
      "Epoch: 091/1000 | Loss: 0.0000 | Episodes: 25 | Win count: 18 | Win rate: 0.156 | time: 47.91 minutes\n",
      "Epoch: 092/1000 | Loss: 0.0000 | Episodes: 37 | Win count: 19 | Win rate: 0.188 | time: 48.06 minutes\n",
      "Epoch: 093/1000 | Loss: 0.0000 | Episodes: 35 | Win count: 20 | Win rate: 0.219 | time: 48.20 minutes\n",
      "Epoch: 094/1000 | Loss: 0.0000 | Episodes: 155 | Win count: 20 | Win rate: 0.219 | time: 48.84 minutes\n",
      "Epoch: 095/1000 | Loss: 0.0000 | Episodes: 23 | Win count: 21 | Win rate: 0.250 | time: 48.93 minutes\n",
      "Epoch: 096/1000 | Loss: 0.0000 | Episodes: 148 | Win count: 21 | Win rate: 0.250 | time: 49.53 minutes\n",
      "Epoch: 097/1000 | Loss: 0.0000 | Episodes: 149 | Win count: 21 | Win rate: 0.219 | time: 50.08 minutes\n",
      "Epoch: 098/1000 | Loss: 0.0000 | Episodes: 146 | Win count: 21 | Win rate: 0.219 | time: 50.45 minutes\n",
      "Epoch: 099/1000 | Loss: 0.0000 | Episodes: 147 | Win count: 21 | Win rate: 0.219 | time: 50.82 minutes\n",
      "Epoch: 100/1000 | Loss: 0.0000 | Episodes: 1 | Win count: 22 | Win rate: 0.250 | time: 50.82 minutes\n",
      "Epoch: 101/1000 | Loss: 0.0000 | Episodes: 143 | Win count: 22 | Win rate: 0.250 | time: 51.15 minutes\n",
      "Epoch: 102/1000 | Loss: 0.0000 | Episodes: 150 | Win count: 22 | Win rate: 0.250 | time: 51.50 minutes\n",
      "Epoch: 103/1000 | Loss: 0.0000 | Episodes: 148 | Win count: 22 | Win rate: 0.219 | time: 51.89 minutes\n",
      "Epoch: 104/1000 | Loss: 0.0000 | Episodes: 146 | Win count: 22 | Win rate: 0.219 | time: 52.24 minutes\n",
      "Epoch: 105/1000 | Loss: 0.0000 | Episodes: 147 | Win count: 22 | Win rate: 0.219 | time: 52.58 minutes\n",
      "Epoch: 106/1000 | Loss: 0.0000 | Episodes: 143 | Win count: 22 | Win rate: 0.188 | time: 52.92 minutes\n",
      "Epoch: 107/1000 | Loss: 0.0000 | Episodes: 153 | Win count: 22 | Win rate: 0.188 | time: 53.32 minutes\n",
      "Epoch: 108/1000 | Loss: 0.0000 | Episodes: 9 | Win count: 23 | Win rate: 0.219 | time: 53.34 minutes\n",
      "Epoch: 109/1000 | Loss: 0.0000 | Episodes: 85 | Win count: 24 | Win rate: 0.250 | time: 53.55 minutes\n",
      "Epoch: 110/1000 | Loss: 0.0000 | Episodes: 141 | Win count: 24 | Win rate: 0.250 | time: 53.91 minutes\n",
      "Epoch: 111/1000 | Loss: 0.0000 | Episodes: 150 | Win count: 24 | Win rate: 0.250 | time: 54.31 minutes\n",
      "Epoch: 112/1000 | Loss: 0.0000 | Episodes: 143 | Win count: 24 | Win rate: 0.250 | time: 54.67 minutes\n",
      "Epoch: 113/1000 | Loss: 0.0000 | Episodes: 138 | Win count: 24 | Win rate: 0.250 | time: 55.00 minutes\n",
      "Epoch: 114/1000 | Loss: 0.0000 | Episodes: 152 | Win count: 24 | Win rate: 0.250 | time: 55.40 minutes\n",
      "Epoch: 115/1000 | Loss: 0.0000 | Episodes: 146 | Win count: 25 | Win rate: 0.281 | time: 55.77 minutes\n",
      "Epoch: 116/1000 | Loss: 0.0000 | Episodes: 146 | Win count: 25 | Win rate: 0.281 | time: 56.12 minutes\n",
      "Epoch: 117/1000 | Loss: 0.0000 | Episodes: 140 | Win count: 25 | Win rate: 0.281 | time: 56.44 minutes\n",
      "Epoch: 118/1000 | Loss: 0.0000 | Episodes: 159 | Win count: 25 | Win rate: 0.281 | time: 56.82 minutes\n",
      "Epoch: 119/1000 | Loss: 0.0000 | Episodes: 148 | Win count: 25 | Win rate: 0.281 | time: 57.17 minutes\n",
      "Epoch: 120/1000 | Loss: 0.0000 | Episodes: 105 | Win count: 26 | Win rate: 0.281 | time: 57.43 minutes\n",
      "Epoch: 121/1000 | Loss: 0.0000 | Episodes: 140 | Win count: 26 | Win rate: 0.281 | time: 57.77 minutes\n",
      "Epoch: 122/1000 | Loss: 0.0000 | Episodes: 148 | Win count: 26 | Win rate: 0.281 | time: 58.14 minutes\n",
      "Epoch: 123/1000 | Loss: 0.0000 | Episodes: 158 | Win count: 26 | Win rate: 0.250 | time: 58.51 minutes\n",
      "Epoch: 124/1000 | Loss: 0.0000 | Episodes: 144 | Win count: 26 | Win rate: 0.219 | time: 58.83 minutes\n",
      "Epoch: 125/1000 | Loss: 0.0000 | Episodes: 143 | Win count: 26 | Win rate: 0.188 | time: 59.14 minutes\n",
      "Epoch: 126/1000 | Loss: 0.0000 | Episodes: 144 | Win count: 26 | Win rate: 0.188 | time: 59.47 minutes\n",
      "Epoch: 127/1000 | Loss: 0.0000 | Episodes: 6 | Win count: 27 | Win rate: 0.188 | time: 59.49 minutes\n",
      "Epoch: 128/1000 | Loss: 0.0000 | Episodes: 143 | Win count: 27 | Win rate: 0.188 | time: 59.83 minutes\n",
      "Epoch: 129/1000 | Loss: 0.0000 | Episodes: 141 | Win count: 27 | Win rate: 0.188 | time: 60.18 minutes\n",
      "Epoch: 130/1000 | Loss: 0.0000 | Episodes: 143 | Win count: 27 | Win rate: 0.188 | time: 60.56 minutes\n",
      "Epoch: 131/1000 | Loss: 0.0000 | Episodes: 158 | Win count: 27 | Win rate: 0.188 | time: 60.95 minutes\n",
      "Epoch: 132/1000 | Loss: 0.0000 | Episodes: 88 | Win count: 28 | Win rate: 0.188 | time: 61.17 minutes\n",
      "Epoch: 133/1000 | Loss: 0.0000 | Episodes: 136 | Win count: 29 | Win rate: 0.219 | time: 61.48 minutes\n",
      "Epoch: 134/1000 | Loss: 0.0000 | Episodes: 144 | Win count: 29 | Win rate: 0.219 | time: 61.80 minutes\n",
      "Epoch: 135/1000 | Loss: 0.0000 | Episodes: 143 | Win count: 29 | Win rate: 0.219 | time: 62.15 minutes\n",
      "Epoch: 136/1000 | Loss: 0.0000 | Episodes: 148 | Win count: 29 | Win rate: 0.219 | time: 62.50 minutes\n",
      "Epoch: 137/1000 | Loss: 0.0000 | Episodes: 154 | Win count: 29 | Win rate: 0.219 | time: 62.89 minutes\n",
      "Epoch: 138/1000 | Loss: 0.0000 | Episodes: 141 | Win count: 29 | Win rate: 0.219 | time: 63.21 minutes\n",
      "Epoch: 139/1000 | Loss: 0.0000 | Episodes: 2 | Win count: 30 | Win rate: 0.250 | time: 63.22 minutes\n",
      "Epoch: 140/1000 | Loss: 0.0000 | Episodes: 149 | Win count: 30 | Win rate: 0.219 | time: 63.58 minutes\n",
      "Epoch: 141/1000 | Loss: 0.0000 | Episodes: 140 | Win count: 30 | Win rate: 0.188 | time: 63.92 minutes\n",
      "Epoch: 142/1000 | Loss: 0.0000 | Episodes: 149 | Win count: 30 | Win rate: 0.188 | time: 64.28 minutes\n",
      "Epoch: 143/1000 | Loss: 0.0000 | Episodes: 144 | Win count: 30 | Win rate: 0.188 | time: 64.64 minutes\n",
      "Epoch: 144/1000 | Loss: 0.0000 | Episodes: 149 | Win count: 30 | Win rate: 0.188 | time: 65.00 minutes\n",
      "Epoch: 145/1000 | Loss: 0.0000 | Episodes: 141 | Win count: 30 | Win rate: 0.188 | time: 65.35 minutes\n",
      "Epoch: 146/1000 | Loss: 0.0000 | Episodes: 1 | Win count: 31 | Win rate: 0.219 | time: 65.35 minutes\n",
      "Epoch: 147/1000 | Loss: 0.0000 | Episodes: 2 | Win count: 32 | Win rate: 0.219 | time: 65.35 minutes\n",
      "Epoch: 148/1000 | Loss: 0.0000 | Episodes: 144 | Win count: 32 | Win rate: 0.219 | time: 65.71 minutes\n",
      "Epoch: 149/1000 | Loss: 0.0000 | Episodes: 150 | Win count: 32 | Win rate: 0.219 | time: 66.08 minutes\n",
      "Epoch: 150/1000 | Loss: 0.0000 | Episodes: 138 | Win count: 32 | Win rate: 0.219 | time: 66.40 minutes\n",
      "Epoch: 151/1000 | Loss: 0.0000 | Episodes: 146 | Win count: 32 | Win rate: 0.219 | time: 1.11 hours\n",
      "Epoch: 152/1000 | Loss: 0.0000 | Episodes: 140 | Win count: 32 | Win rate: 0.188 | time: 1.12 hours\n",
      "Epoch: 153/1000 | Loss: 0.0000 | Episodes: 143 | Win count: 32 | Win rate: 0.188 | time: 1.12 hours\n",
      "Epoch: 154/1000 | Loss: 0.0000 | Episodes: 147 | Win count: 32 | Win rate: 0.188 | time: 1.13 hours\n",
      "Epoch: 155/1000 | Loss: 0.0000 | Episodes: 137 | Win count: 32 | Win rate: 0.188 | time: 1.13 hours\n",
      "Epoch: 156/1000 | Loss: 0.0000 | Episodes: 17 | Win count: 33 | Win rate: 0.219 | time: 1.13 hours\n",
      "Epoch: 157/1000 | Loss: 0.0000 | Episodes: 144 | Win count: 33 | Win rate: 0.219 | time: 1.14 hours\n",
      "Epoch: 158/1000 | Loss: 0.0000 | Episodes: 147 | Win count: 33 | Win rate: 0.219 | time: 1.15 hours\n",
      "Epoch: 159/1000 | Loss: 0.0000 | Episodes: 64 | Win count: 34 | Win rate: 0.219 | time: 1.15 hours\n",
      "Epoch: 160/1000 | Loss: 0.0000 | Episodes: 141 | Win count: 34 | Win rate: 0.219 | time: 1.15 hours\n",
      "Epoch: 161/1000 | Loss: 0.0000 | Episodes: 147 | Win count: 34 | Win rate: 0.219 | time: 1.16 hours\n",
      "Epoch: 162/1000 | Loss: 0.0000 | Episodes: 33 | Win count: 35 | Win rate: 0.250 | time: 1.16 hours\n",
      "Epoch: 163/1000 | Loss: 0.0000 | Episodes: 144 | Win count: 36 | Win rate: 0.281 | time: 1.16 hours\n",
      "Epoch: 164/1000 | Loss: 0.0000 | Episodes: 139 | Win count: 36 | Win rate: 0.250 | time: 1.17 hours\n",
      "Epoch: 165/1000 | Loss: 0.0000 | Episodes: 141 | Win count: 36 | Win rate: 0.219 | time: 1.18 hours\n",
      "Epoch: 166/1000 | Loss: 0.0000 | Episodes: 147 | Win count: 36 | Win rate: 0.219 | time: 1.18 hours\n",
      "Epoch: 167/1000 | Loss: 0.0000 | Episodes: 18 | Win count: 37 | Win rate: 0.250 | time: 1.18 hours\n",
      "Epoch: 168/1000 | Loss: 0.0000 | Episodes: 10 | Win count: 38 | Win rate: 0.281 | time: 1.18 hours\n",
      "Epoch: 169/1000 | Loss: 0.0000 | Episodes: 144 | Win count: 38 | Win rate: 0.281 | time: 1.19 hours\n",
      "Epoch: 170/1000 | Loss: 0.0000 | Episodes: 104 | Win count: 39 | Win rate: 0.312 | time: 1.19 hours\n",
      "Epoch: 171/1000 | Loss: 0.0000 | Episodes: 144 | Win count: 39 | Win rate: 0.281 | time: 1.20 hours\n",
      "Epoch: 172/1000 | Loss: 0.0000 | Episodes: 146 | Win count: 39 | Win rate: 0.281 | time: 1.20 hours\n",
      "Epoch: 173/1000 | Loss: 0.0000 | Episodes: 14 | Win count: 40 | Win rate: 0.312 | time: 1.20 hours\n",
      "Epoch: 174/1000 | Loss: 0.0000 | Episodes: 104 | Win count: 41 | Win rate: 0.344 | time: 1.21 hours\n",
      "Epoch: 175/1000 | Loss: 0.0000 | Episodes: 149 | Win count: 41 | Win rate: 0.344 | time: 1.22 hours\n",
      "Epoch: 176/1000 | Loss: 0.0000 | Episodes: 144 | Win count: 41 | Win rate: 0.344 | time: 1.22 hours\n",
      "Epoch: 177/1000 | Loss: 0.0000 | Episodes: 138 | Win count: 41 | Win rate: 0.344 | time: 1.23 hours\n",
      "Epoch: 178/1000 | Loss: 0.0000 | Episodes: 49 | Win count: 42 | Win rate: 0.344 | time: 1.23 hours\n",
      "Epoch: 179/1000 | Loss: 0.0000 | Episodes: 139 | Win count: 42 | Win rate: 0.312 | time: 1.24 hours\n",
      "Epoch: 180/1000 | Loss: 0.0000 | Episodes: 142 | Win count: 42 | Win rate: 0.312 | time: 1.24 hours\n",
      "Epoch: 181/1000 | Loss: 0.0000 | Episodes: 150 | Win count: 42 | Win rate: 0.312 | time: 1.25 hours\n",
      "Epoch: 182/1000 | Loss: 0.0000 | Episodes: 142 | Win count: 42 | Win rate: 0.312 | time: 1.26 hours\n",
      "Epoch: 183/1000 | Loss: 0.0000 | Episodes: 159 | Win count: 42 | Win rate: 0.312 | time: 1.27 hours\n",
      "Epoch: 184/1000 | Loss: 0.0000 | Episodes: 150 | Win count: 42 | Win rate: 0.312 | time: 1.28 hours\n",
      "Epoch: 185/1000 | Loss: 0.0000 | Episodes: 144 | Win count: 42 | Win rate: 0.312 | time: 1.30 hours\n",
      "Epoch: 186/1000 | Loss: 0.0000 | Episodes: 150 | Win count: 42 | Win rate: 0.312 | time: 1.31 hours\n",
      "Epoch: 187/1000 | Loss: 0.0000 | Episodes: 150 | Win count: 42 | Win rate: 0.312 | time: 1.32 hours\n",
      "Epoch: 188/1000 | Loss: 0.0000 | Episodes: 141 | Win count: 42 | Win rate: 0.281 | time: 1.33 hours\n",
      "Epoch: 189/1000 | Loss: 0.0000 | Episodes: 159 | Win count: 42 | Win rate: 0.281 | time: 1.35 hours\n",
      "Epoch: 190/1000 | Loss: 0.0000 | Episodes: 150 | Win count: 42 | Win rate: 0.281 | time: 1.36 hours\n",
      "Epoch: 191/1000 | Loss: 0.0000 | Episodes: 149 | Win count: 42 | Win rate: 0.250 | time: 1.37 hours\n",
      "Epoch: 192/1000 | Loss: 0.0000 | Episodes: 2 | Win count: 43 | Win rate: 0.281 | time: 1.37 hours\n",
      "Epoch: 193/1000 | Loss: 0.0000 | Episodes: 138 | Win count: 43 | Win rate: 0.281 | time: 1.38 hours\n",
      "Epoch: 194/1000 | Loss: 0.0000 | Episodes: 35 | Win count: 44 | Win rate: 0.281 | time: 1.38 hours\n",
      "Epoch: 195/1000 | Loss: 0.0000 | Episodes: 137 | Win count: 44 | Win rate: 0.250 | time: 1.40 hours\n",
      "Epoch: 196/1000 | Loss: 0.0000 | Episodes: 145 | Win count: 44 | Win rate: 0.250 | time: 1.41 hours\n",
      "Epoch: 197/1000 | Loss: 0.0000 | Episodes: 141 | Win count: 44 | Win rate: 0.250 | time: 1.42 hours\n",
      "Epoch: 198/1000 | Loss: 0.0000 | Episodes: 34 | Win count: 45 | Win rate: 0.281 | time: 1.42 hours\n",
      "Epoch: 199/1000 | Loss: 0.0000 | Episodes: 152 | Win count: 45 | Win rate: 0.250 | time: 1.43 hours\n",
      "Epoch: 200/1000 | Loss: 0.0000 | Episodes: 103 | Win count: 46 | Win rate: 0.250 | time: 1.44 hours\n",
      "Epoch: 201/1000 | Loss: 0.0000 | Episodes: 144 | Win count: 46 | Win rate: 0.250 | time: 1.45 hours\n",
      "Epoch: 202/1000 | Loss: 0.0000 | Episodes: 144 | Win count: 46 | Win rate: 0.219 | time: 1.47 hours\n",
      "Epoch: 203/1000 | Loss: 0.0000 | Episodes: 160 | Win count: 46 | Win rate: 0.219 | time: 1.48 hours\n",
      "Epoch: 204/1000 | Loss: 0.0000 | Episodes: 148 | Win count: 46 | Win rate: 0.219 | time: 1.49 hours\n",
      "Epoch: 205/1000 | Loss: 0.0000 | Episodes: 142 | Win count: 46 | Win rate: 0.188 | time: 1.50 hours\n",
      "Epoch: 206/1000 | Loss: 0.0000 | Episodes: 142 | Win count: 46 | Win rate: 0.156 | time: 1.51 hours\n",
      "Epoch: 207/1000 | Loss: 0.0000 | Episodes: 142 | Win count: 46 | Win rate: 0.156 | time: 1.52 hours\n",
      "Epoch: 208/1000 | Loss: 0.0000 | Episodes: 148 | Win count: 46 | Win rate: 0.156 | time: 1.52 hours\n",
      "Epoch: 209/1000 | Loss: 0.0000 | Episodes: 139 | Win count: 46 | Win rate: 0.156 | time: 1.53 hours\n",
      "Epoch: 210/1000 | Loss: 0.0000 | Episodes: 3 | Win count: 47 | Win rate: 0.156 | time: 1.53 hours\n",
      "Epoch: 211/1000 | Loss: 0.0000 | Episodes: 141 | Win count: 47 | Win rate: 0.156 | time: 1.53 hours\n",
      "Epoch: 212/1000 | Loss: 0.0000 | Episodes: 145 | Win count: 47 | Win rate: 0.156 | time: 1.54 hours\n",
      "Epoch: 213/1000 | Loss: 0.0000 | Episodes: 99 | Win count: 48 | Win rate: 0.188 | time: 1.54 hours\n",
      "Epoch: 214/1000 | Loss: 0.0000 | Episodes: 32 | Win count: 49 | Win rate: 0.219 | time: 1.55 hours\n",
      "Epoch: 215/1000 | Loss: 0.0000 | Episodes: 86 | Win count: 50 | Win rate: 0.250 | time: 1.55 hours\n",
      "Epoch: 216/1000 | Loss: 0.0000 | Episodes: 144 | Win count: 50 | Win rate: 0.250 | time: 1.55 hours\n",
      "Epoch: 217/1000 | Loss: 0.0000 | Episodes: 44 | Win count: 51 | Win rate: 0.281 | time: 1.56 hours\n",
      "Epoch: 218/1000 | Loss: 0.0000 | Episodes: 136 | Win count: 51 | Win rate: 0.281 | time: 1.57 hours\n",
      "Epoch: 219/1000 | Loss: 0.0000 | Episodes: 136 | Win count: 51 | Win rate: 0.281 | time: 1.58 hours\n",
      "Epoch: 220/1000 | Loss: 0.0000 | Episodes: 5 | Win count: 52 | Win rate: 0.312 | time: 1.58 hours\n",
      "Epoch: 221/1000 | Loss: 0.0000 | Episodes: 153 | Win count: 52 | Win rate: 0.312 | time: 1.59 hours\n",
      "Epoch: 222/1000 | Loss: 0.0000 | Episodes: 7 | Win count: 53 | Win rate: 0.344 | time: 1.59 hours\n",
      "Epoch: 223/1000 | Loss: 0.0000 | Episodes: 149 | Win count: 53 | Win rate: 0.344 | time: 1.60 hours\n",
      "Epoch: 224/1000 | Loss: 0.0000 | Episodes: 140 | Win count: 53 | Win rate: 0.312 | time: 1.62 hours\n"
     ]
    },
    {
     "ename": "KeyboardInterrupt",
     "evalue": "",
     "output_type": "error",
     "traceback": [
      "\u001b[1;31m---------------------------------------------------------------------------\u001b[0m",
      "\u001b[1;31mKeyboardInterrupt\u001b[0m                         Traceback (most recent call last)",
      "\u001b[1;32m<ipython-input-11-3f866ecde593>\u001b[0m in \u001b[0;36m<module>\u001b[1;34m\u001b[0m\n\u001b[0;32m      1\u001b[0m \u001b[0mmodel\u001b[0m \u001b[1;33m=\u001b[0m \u001b[0mbuild_model\u001b[0m\u001b[1;33m(\u001b[0m\u001b[0mmaze\u001b[0m\u001b[1;33m)\u001b[0m\u001b[1;33m\u001b[0m\u001b[1;33m\u001b[0m\u001b[0m\n\u001b[1;32m----> 2\u001b[1;33m \u001b[0mqtrain\u001b[0m\u001b[1;33m(\u001b[0m\u001b[0mmodel\u001b[0m\u001b[1;33m,\u001b[0m \u001b[0mmaze\u001b[0m\u001b[1;33m,\u001b[0m \u001b[0mepochs\u001b[0m\u001b[1;33m=\u001b[0m\u001b[1;36m1000\u001b[0m\u001b[1;33m,\u001b[0m \u001b[0mmax_memory\u001b[0m\u001b[1;33m=\u001b[0m\u001b[1;36m8\u001b[0m\u001b[1;33m*\u001b[0m\u001b[0mmaze\u001b[0m\u001b[1;33m.\u001b[0m\u001b[0msize\u001b[0m\u001b[1;33m,\u001b[0m \u001b[0mdata_size\u001b[0m\u001b[1;33m=\u001b[0m\u001b[1;36m32\u001b[0m\u001b[1;33m)\u001b[0m\u001b[1;33m\u001b[0m\u001b[1;33m\u001b[0m\u001b[0m\n\u001b[0m",
      "\u001b[1;32m<ipython-input-9-1c94c0610e08>\u001b[0m in \u001b[0;36mqtrain\u001b[1;34m(model, maze, **opt)\u001b[0m\n\u001b[0;32m     80\u001b[0m             \u001b[1;32mif\u001b[0m \u001b[0mdata\u001b[0m\u001b[1;33m:\u001b[0m\u001b[1;33m\u001b[0m\u001b[1;33m\u001b[0m\u001b[0m\n\u001b[0;32m     81\u001b[0m                 \u001b[0minputs\u001b[0m\u001b[1;33m,\u001b[0m \u001b[0mtargets\u001b[0m \u001b[1;33m=\u001b[0m \u001b[0mdata\u001b[0m\u001b[1;33m\u001b[0m\u001b[1;33m\u001b[0m\u001b[0m\n\u001b[1;32m---> 82\u001b[1;33m                 \u001b[0mmodel\u001b[0m\u001b[1;33m.\u001b[0m\u001b[0mfit\u001b[0m\u001b[1;33m(\u001b[0m\u001b[0minputs\u001b[0m\u001b[1;33m,\u001b[0m \u001b[0mtargets\u001b[0m\u001b[1;33m,\u001b[0m \u001b[0mepochs\u001b[0m\u001b[1;33m=\u001b[0m\u001b[1;36m10\u001b[0m\u001b[1;33m,\u001b[0m \u001b[0mbatch_size\u001b[0m\u001b[1;33m=\u001b[0m\u001b[1;36m20\u001b[0m\u001b[1;33m,\u001b[0m \u001b[0mverbose\u001b[0m\u001b[1;33m=\u001b[0m\u001b[1;36m0\u001b[0m\u001b[1;33m)\u001b[0m\u001b[1;33m\u001b[0m\u001b[1;33m\u001b[0m\u001b[0m\n\u001b[0m\u001b[0;32m     83\u001b[0m                 \u001b[0mloss\u001b[0m \u001b[1;33m=\u001b[0m \u001b[0mmodel\u001b[0m\u001b[1;33m.\u001b[0m\u001b[0mevaluate\u001b[0m\u001b[1;33m(\u001b[0m\u001b[0minputs\u001b[0m\u001b[1;33m,\u001b[0m \u001b[0mtargets\u001b[0m\u001b[1;33m,\u001b[0m \u001b[0mverbose\u001b[0m\u001b[1;33m=\u001b[0m\u001b[1;36m0\u001b[0m\u001b[1;33m)\u001b[0m\u001b[1;33m\u001b[0m\u001b[1;33m\u001b[0m\u001b[0m\n\u001b[0;32m     84\u001b[0m \u001b[1;33m\u001b[0m\u001b[0m\n",
      "\u001b[1;32mC:\\ProgramData\\Anaconda3\\lib\\site-packages\\keras\\engine\\training.py\u001b[0m in \u001b[0;36mfit\u001b[1;34m(self, x, y, batch_size, epochs, verbose, callbacks, validation_split, validation_data, shuffle, class_weight, sample_weight, initial_epoch, steps_per_epoch, validation_steps, validation_freq, max_queue_size, workers, use_multiprocessing, **kwargs)\u001b[0m\n\u001b[0;32m   1237\u001b[0m                                         \u001b[0msteps_per_epoch\u001b[0m\u001b[1;33m=\u001b[0m\u001b[0msteps_per_epoch\u001b[0m\u001b[1;33m,\u001b[0m\u001b[1;33m\u001b[0m\u001b[1;33m\u001b[0m\u001b[0m\n\u001b[0;32m   1238\u001b[0m                                         \u001b[0mvalidation_steps\u001b[0m\u001b[1;33m=\u001b[0m\u001b[0mvalidation_steps\u001b[0m\u001b[1;33m,\u001b[0m\u001b[1;33m\u001b[0m\u001b[1;33m\u001b[0m\u001b[0m\n\u001b[1;32m-> 1239\u001b[1;33m                                         validation_freq=validation_freq)\n\u001b[0m\u001b[0;32m   1240\u001b[0m \u001b[1;33m\u001b[0m\u001b[0m\n\u001b[0;32m   1241\u001b[0m     def evaluate(self,\n",
      "\u001b[1;32mC:\\ProgramData\\Anaconda3\\lib\\site-packages\\keras\\engine\\training_arrays.py\u001b[0m in \u001b[0;36mfit_loop\u001b[1;34m(model, fit_function, fit_inputs, out_labels, batch_size, epochs, verbose, callbacks, val_function, val_inputs, shuffle, initial_epoch, steps_per_epoch, validation_steps, validation_freq)\u001b[0m\n\u001b[0;32m    194\u001b[0m                     \u001b[0mins_batch\u001b[0m\u001b[1;33m[\u001b[0m\u001b[0mi\u001b[0m\u001b[1;33m]\u001b[0m \u001b[1;33m=\u001b[0m \u001b[0mins_batch\u001b[0m\u001b[1;33m[\u001b[0m\u001b[0mi\u001b[0m\u001b[1;33m]\u001b[0m\u001b[1;33m.\u001b[0m\u001b[0mtoarray\u001b[0m\u001b[1;33m(\u001b[0m\u001b[1;33m)\u001b[0m\u001b[1;33m\u001b[0m\u001b[1;33m\u001b[0m\u001b[0m\n\u001b[0;32m    195\u001b[0m \u001b[1;33m\u001b[0m\u001b[0m\n\u001b[1;32m--> 196\u001b[1;33m                 \u001b[0mouts\u001b[0m \u001b[1;33m=\u001b[0m \u001b[0mfit_function\u001b[0m\u001b[1;33m(\u001b[0m\u001b[0mins_batch\u001b[0m\u001b[1;33m)\u001b[0m\u001b[1;33m\u001b[0m\u001b[1;33m\u001b[0m\u001b[0m\n\u001b[0m\u001b[0;32m    197\u001b[0m                 \u001b[0mouts\u001b[0m \u001b[1;33m=\u001b[0m \u001b[0mto_list\u001b[0m\u001b[1;33m(\u001b[0m\u001b[0mouts\u001b[0m\u001b[1;33m)\u001b[0m\u001b[1;33m\u001b[0m\u001b[1;33m\u001b[0m\u001b[0m\n\u001b[0;32m    198\u001b[0m                 \u001b[1;32mfor\u001b[0m \u001b[0ml\u001b[0m\u001b[1;33m,\u001b[0m \u001b[0mo\u001b[0m \u001b[1;32min\u001b[0m \u001b[0mzip\u001b[0m\u001b[1;33m(\u001b[0m\u001b[0mout_labels\u001b[0m\u001b[1;33m,\u001b[0m \u001b[0mouts\u001b[0m\u001b[1;33m)\u001b[0m\u001b[1;33m:\u001b[0m\u001b[1;33m\u001b[0m\u001b[1;33m\u001b[0m\u001b[0m\n",
      "\u001b[1;32mC:\\ProgramData\\Anaconda3\\lib\\site-packages\\tensorflow_core\\python\\keras\\backend.py\u001b[0m in \u001b[0;36m__call__\u001b[1;34m(self, inputs)\u001b[0m\n\u001b[0;32m   3725\u001b[0m         \u001b[0mvalue\u001b[0m \u001b[1;33m=\u001b[0m \u001b[0mmath_ops\u001b[0m\u001b[1;33m.\u001b[0m\u001b[0mcast\u001b[0m\u001b[1;33m(\u001b[0m\u001b[0mvalue\u001b[0m\u001b[1;33m,\u001b[0m \u001b[0mtensor\u001b[0m\u001b[1;33m.\u001b[0m\u001b[0mdtype\u001b[0m\u001b[1;33m)\u001b[0m\u001b[1;33m\u001b[0m\u001b[1;33m\u001b[0m\u001b[0m\n\u001b[0;32m   3726\u001b[0m       \u001b[0mconverted_inputs\u001b[0m\u001b[1;33m.\u001b[0m\u001b[0mappend\u001b[0m\u001b[1;33m(\u001b[0m\u001b[0mvalue\u001b[0m\u001b[1;33m)\u001b[0m\u001b[1;33m\u001b[0m\u001b[1;33m\u001b[0m\u001b[0m\n\u001b[1;32m-> 3727\u001b[1;33m     \u001b[0moutputs\u001b[0m \u001b[1;33m=\u001b[0m \u001b[0mself\u001b[0m\u001b[1;33m.\u001b[0m\u001b[0m_graph_fn\u001b[0m\u001b[1;33m(\u001b[0m\u001b[1;33m*\u001b[0m\u001b[0mconverted_inputs\u001b[0m\u001b[1;33m)\u001b[0m\u001b[1;33m\u001b[0m\u001b[1;33m\u001b[0m\u001b[0m\n\u001b[0m\u001b[0;32m   3728\u001b[0m \u001b[1;33m\u001b[0m\u001b[0m\n\u001b[0;32m   3729\u001b[0m     \u001b[1;31m# EagerTensor.numpy() will often make a copy to ensure memory safety.\u001b[0m\u001b[1;33m\u001b[0m\u001b[1;33m\u001b[0m\u001b[1;33m\u001b[0m\u001b[0m\n",
      "\u001b[1;32mC:\\ProgramData\\Anaconda3\\lib\\site-packages\\tensorflow_core\\python\\eager\\function.py\u001b[0m in \u001b[0;36m__call__\u001b[1;34m(self, *args, **kwargs)\u001b[0m\n\u001b[0;32m   1549\u001b[0m       \u001b[0mTypeError\u001b[0m\u001b[1;33m:\u001b[0m \u001b[0mFor\u001b[0m \u001b[0minvalid\u001b[0m \u001b[0mpositional\u001b[0m\u001b[1;33m/\u001b[0m\u001b[0mkeyword\u001b[0m \u001b[0margument\u001b[0m \u001b[0mcombinations\u001b[0m\u001b[1;33m.\u001b[0m\u001b[1;33m\u001b[0m\u001b[1;33m\u001b[0m\u001b[0m\n\u001b[0;32m   1550\u001b[0m     \"\"\"\n\u001b[1;32m-> 1551\u001b[1;33m     \u001b[1;32mreturn\u001b[0m \u001b[0mself\u001b[0m\u001b[1;33m.\u001b[0m\u001b[0m_call_impl\u001b[0m\u001b[1;33m(\u001b[0m\u001b[0margs\u001b[0m\u001b[1;33m,\u001b[0m \u001b[0mkwargs\u001b[0m\u001b[1;33m)\u001b[0m\u001b[1;33m\u001b[0m\u001b[1;33m\u001b[0m\u001b[0m\n\u001b[0m\u001b[0;32m   1552\u001b[0m \u001b[1;33m\u001b[0m\u001b[0m\n\u001b[0;32m   1553\u001b[0m   \u001b[1;32mdef\u001b[0m \u001b[0m_call_impl\u001b[0m\u001b[1;33m(\u001b[0m\u001b[0mself\u001b[0m\u001b[1;33m,\u001b[0m \u001b[0margs\u001b[0m\u001b[1;33m,\u001b[0m \u001b[0mkwargs\u001b[0m\u001b[1;33m,\u001b[0m \u001b[0mcancellation_manager\u001b[0m\u001b[1;33m=\u001b[0m\u001b[1;32mNone\u001b[0m\u001b[1;33m)\u001b[0m\u001b[1;33m:\u001b[0m\u001b[1;33m\u001b[0m\u001b[1;33m\u001b[0m\u001b[0m\n",
      "\u001b[1;32mC:\\ProgramData\\Anaconda3\\lib\\site-packages\\tensorflow_core\\python\\eager\\function.py\u001b[0m in \u001b[0;36m_call_impl\u001b[1;34m(self, args, kwargs, cancellation_manager)\u001b[0m\n\u001b[0;32m   1589\u001b[0m       raise TypeError(\"Keyword arguments {} unknown. Expected {}.\".format(\n\u001b[0;32m   1590\u001b[0m           list(kwargs.keys()), list(self._arg_keywords)))\n\u001b[1;32m-> 1591\u001b[1;33m     \u001b[1;32mreturn\u001b[0m \u001b[0mself\u001b[0m\u001b[1;33m.\u001b[0m\u001b[0m_call_flat\u001b[0m\u001b[1;33m(\u001b[0m\u001b[0margs\u001b[0m\u001b[1;33m,\u001b[0m \u001b[0mself\u001b[0m\u001b[1;33m.\u001b[0m\u001b[0mcaptured_inputs\u001b[0m\u001b[1;33m,\u001b[0m \u001b[0mcancellation_manager\u001b[0m\u001b[1;33m)\u001b[0m\u001b[1;33m\u001b[0m\u001b[1;33m\u001b[0m\u001b[0m\n\u001b[0m\u001b[0;32m   1592\u001b[0m \u001b[1;33m\u001b[0m\u001b[0m\n\u001b[0;32m   1593\u001b[0m   \u001b[1;32mdef\u001b[0m \u001b[0m_filtered_call\u001b[0m\u001b[1;33m(\u001b[0m\u001b[0mself\u001b[0m\u001b[1;33m,\u001b[0m \u001b[0margs\u001b[0m\u001b[1;33m,\u001b[0m \u001b[0mkwargs\u001b[0m\u001b[1;33m)\u001b[0m\u001b[1;33m:\u001b[0m\u001b[1;33m\u001b[0m\u001b[1;33m\u001b[0m\u001b[0m\n",
      "\u001b[1;32mC:\\ProgramData\\Anaconda3\\lib\\site-packages\\tensorflow_core\\python\\eager\\function.py\u001b[0m in \u001b[0;36m_call_flat\u001b[1;34m(self, args, captured_inputs, cancellation_manager)\u001b[0m\n\u001b[0;32m   1690\u001b[0m       \u001b[1;31m# No tape is watching; skip to running the function.\u001b[0m\u001b[1;33m\u001b[0m\u001b[1;33m\u001b[0m\u001b[1;33m\u001b[0m\u001b[0m\n\u001b[0;32m   1691\u001b[0m       return self._build_call_outputs(self._inference_function.call(\n\u001b[1;32m-> 1692\u001b[1;33m           ctx, args, cancellation_manager=cancellation_manager))\n\u001b[0m\u001b[0;32m   1693\u001b[0m     forward_backward = self._select_forward_and_backward_functions(\n\u001b[0;32m   1694\u001b[0m         \u001b[0margs\u001b[0m\u001b[1;33m,\u001b[0m\u001b[1;33m\u001b[0m\u001b[1;33m\u001b[0m\u001b[0m\n",
      "\u001b[1;32mC:\\ProgramData\\Anaconda3\\lib\\site-packages\\tensorflow_core\\python\\eager\\function.py\u001b[0m in \u001b[0;36mcall\u001b[1;34m(self, ctx, args, cancellation_manager)\u001b[0m\n\u001b[0;32m    543\u001b[0m               \u001b[0minputs\u001b[0m\u001b[1;33m=\u001b[0m\u001b[0margs\u001b[0m\u001b[1;33m,\u001b[0m\u001b[1;33m\u001b[0m\u001b[1;33m\u001b[0m\u001b[0m\n\u001b[0;32m    544\u001b[0m               \u001b[0mattrs\u001b[0m\u001b[1;33m=\u001b[0m\u001b[1;33m(\u001b[0m\u001b[1;34m\"executor_type\"\u001b[0m\u001b[1;33m,\u001b[0m \u001b[0mexecutor_type\u001b[0m\u001b[1;33m,\u001b[0m \u001b[1;34m\"config_proto\"\u001b[0m\u001b[1;33m,\u001b[0m \u001b[0mconfig\u001b[0m\u001b[1;33m)\u001b[0m\u001b[1;33m,\u001b[0m\u001b[1;33m\u001b[0m\u001b[1;33m\u001b[0m\u001b[0m\n\u001b[1;32m--> 545\u001b[1;33m               ctx=ctx)\n\u001b[0m\u001b[0;32m    546\u001b[0m         \u001b[1;32melse\u001b[0m\u001b[1;33m:\u001b[0m\u001b[1;33m\u001b[0m\u001b[1;33m\u001b[0m\u001b[0m\n\u001b[0;32m    547\u001b[0m           outputs = execute.execute_with_cancellation(\n",
      "\u001b[1;32mC:\\ProgramData\\Anaconda3\\lib\\site-packages\\tensorflow_core\\python\\eager\\execute.py\u001b[0m in \u001b[0;36mquick_execute\u001b[1;34m(op_name, num_outputs, inputs, attrs, ctx, name)\u001b[0m\n\u001b[0;32m     59\u001b[0m     tensors = pywrap_tensorflow.TFE_Py_Execute(ctx._handle, device_name,\n\u001b[0;32m     60\u001b[0m                                                \u001b[0mop_name\u001b[0m\u001b[1;33m,\u001b[0m \u001b[0minputs\u001b[0m\u001b[1;33m,\u001b[0m \u001b[0mattrs\u001b[0m\u001b[1;33m,\u001b[0m\u001b[1;33m\u001b[0m\u001b[1;33m\u001b[0m\u001b[0m\n\u001b[1;32m---> 61\u001b[1;33m                                                num_outputs)\n\u001b[0m\u001b[0;32m     62\u001b[0m   \u001b[1;32mexcept\u001b[0m \u001b[0mcore\u001b[0m\u001b[1;33m.\u001b[0m\u001b[0m_NotOkStatusException\u001b[0m \u001b[1;32mas\u001b[0m \u001b[0me\u001b[0m\u001b[1;33m:\u001b[0m\u001b[1;33m\u001b[0m\u001b[1;33m\u001b[0m\u001b[0m\n\u001b[0;32m     63\u001b[0m     \u001b[1;32mif\u001b[0m \u001b[0mname\u001b[0m \u001b[1;32mis\u001b[0m \u001b[1;32mnot\u001b[0m \u001b[1;32mNone\u001b[0m\u001b[1;33m:\u001b[0m\u001b[1;33m\u001b[0m\u001b[1;33m\u001b[0m\u001b[0m\n",
      "\u001b[1;31mKeyboardInterrupt\u001b[0m: "
     ]
    }
   ],
   "source": [
    "model = build_model(maze)\n",
    "qtrain(model, maze, epochs=1000, max_memory=8*maze.size, data_size=32)"
   ]
  },
  {
   "cell_type": "markdown",
   "metadata": {},
   "source": [
    "This cell will check to see if the model passes the completion check. Note: This could take several minutes."
   ]
  },
  {
   "cell_type": "code",
   "execution_count": 12,
   "metadata": {},
   "outputs": [
    {
     "data": {
      "text/plain": [
       "<matplotlib.image.AxesImage at 0x270759b4808>"
      ]
     },
     "execution_count": 12,
     "metadata": {},
     "output_type": "execute_result"
    },
    {
     "data": {
      "image/png": "[encoded data removed]",
      "text/plain": [
       "<Figure size 432x288 with 1 Axes>"
      ]
     },
     "metadata": {
      "needs_background": "light"
     },
     "output_type": "display_data"
    }
   ],
   "source": [
    "completion_check(model, qmaze)\n",
    "show(qmaze)"
   ]
  },
  {
   "cell_type": "markdown",
   "metadata": {},
   "source": [
    "This cell will test your model for one game. It will start the pirate at the top-left corner and run play_game. The agent should find a path from the starting position to the target (treasure). The treasure is located in the bottom-right corner."
   ]
  },
  {
   "cell_type": "code",
   "execution_count": 13,
   "metadata": {},
   "outputs": [
    {
     "data": {
      "text/plain": [
       "<matplotlib.image.AxesImage at 0x27075a101c8>"
      ]
     },
     "execution_count": 13,
     "metadata": {},
     "output_type": "execute_result"
    },
    {
     "data": {
      "image/png": "[encoded data removed]",
      "text/plain": [
       "<Figure size 432x288 with 1 Axes>"
      ]
     },
     "metadata": {
      "needs_background": "light"
     },
     "output_type": "display_data"
    }
   ],
   "source": [
    "pirate_start = (0, 0)\n",
    "play_game(model, qmaze, pirate_start)\n",
    "show(qmaze)"
   ]
  },
  {
   "cell_type": "markdown",
   "metadata": {},
   "source": [
    "## Save and Submit Your Work\n",
    "After you have finished creating the code for your notebook, save your work. Make sure that your notebook contains your name in the filename (e.g. Doe_Jane_ProjectTwo.ipynb). This will help your instructor access and grade your work easily. Download a copy of your IPYNB file and submit it to Brightspace. Refer to the Jupyter Notebook in Apporto Tutorial if you need help with these tasks."
   ]
  }
 ],
 "metadata": {
  "kernelspec": {
   "display_name": "Python 3",
   "language": "python",
   "name": "python3"
  },
  "language_info": {
   "codemirror_mode": {
    "name": "ipython",
    "version": 3
   },
   "file_extension": ".py",
   "mimetype": "text/x-python",
   "name": "python",
   "nbconvert_exporter": "python",
   "pygments_lexer": "ipython3",
   "version": "3.7.4"
  }
 },
 "nbformat": 4,
 "nbformat_minor": 2
}
